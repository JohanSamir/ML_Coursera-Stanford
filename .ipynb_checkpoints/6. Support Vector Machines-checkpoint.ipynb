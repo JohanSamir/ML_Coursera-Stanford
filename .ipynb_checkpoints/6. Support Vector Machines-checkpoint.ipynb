{
 "cells": [
  {
   "cell_type": "markdown",
   "metadata": {},
   "source": [
    "## Support Vector Machines"
   ]
  },
  {
   "cell_type": "code",
   "execution_count": 69,
   "metadata": {},
   "outputs": [],
   "source": [
    "import os\n",
    "import scipy as sp\n",
    "from scipy.io import loadmat\n",
    "from scipy.optimize import minimize\n",
    "import matplotlib\n",
    "import matplotlib.pyplot as plt\n",
    "from sklearn.svm import SVC"
   ]
  },
  {
   "cell_type": "code",
   "execution_count": 70,
   "metadata": {},
   "outputs": [],
   "source": [
    "dataset_1 = loadmat('/home/johan/repos/GitHub/ML_Coursera-Stanford/6. Support Vector Machines/ex6/ex6data1.mat')\n",
    "dataset_2 = loadmat('/home/johan/repos/GitHub/ML_Coursera-Stanford/6. Support Vector Machines/ex6/ex6data2.mat')\n",
    "dataset_3 = loadmat('/home/johan/repos/GitHub/ML_Coursera-Stanford/6. Support Vector Machines/ex6/ex6data3.mat')"
   ]
  },
  {
   "cell_type": "code",
   "execution_count": 71,
   "metadata": {},
   "outputs": [
    {
     "name": "stdout",
     "output_type": "stream",
     "text": [
      "X_1:\n",
      " [[1.9643 4.5957]\n",
      " [2.2753 3.8589]\n",
      " [2.9781 4.5651]]\n",
      "dataset_1[y]:\n",
      " [[1]\n",
      " [1]\n",
      " [1]]\n",
      "reshape(-1):\n",
      " [1 1 1]\n"
     ]
    }
   ],
   "source": [
    "X_1 = dataset_1['X']\n",
    "print ('X_1:\\n',X_1[0:3])\n",
    "print ('dataset_1[y]:\\n',dataset_1['y'][0:3])\n",
    "y_1 = dataset_1['y'].reshape(-1)\n",
    "print ('reshape(-1):\\n',y_1[0:3])"
   ]
  },
  {
   "cell_type": "markdown",
   "metadata": {},
   "source": [
    "I will begin by with a 2D example dataset which can be separated by a\n",
    "linear boundary. Notice that there is an outlier positive example + on\n",
    "the far left, this outlier affects the SVM decision boundary.  \n",
    "I will try using different values of the C\n",
    "parameter with SVMs. Informally, the C parameter is a positive value that\n",
    "controls the penalty for misclassified training examples. A large C parameter tells the SVM to try to classify all the examples correctly. C plays a role\n",
    "similar to 1/λ , where λ is the regularization parameter that I was using\n",
    "previously for logistic regression."
   ]
  },
  {
   "cell_type": "code",
   "execution_count": 72,
   "metadata": {},
   "outputs": [
    {
     "data": {
      "image/png": "[encoded data removed]",
      "text/plain": [
       "<matplotlib.figure.Figure at 0x7f6c77ff2f98>"
      ]
     },
     "metadata": {},
     "output_type": "display_data"
    }
   ],
   "source": [
    "plt.figure(figsize=(8,5))\n",
    "plt.plot(X_1[y_1 == 0].T[0], X_1[y_1 == 0].T[1], 'yo', ms=8, label='Pos. examples')\n",
    "plt.plot(X_1[y_1 == 1].T[0], X_1[y_1 == 1].T[1], 'k+', ms=8, label='Neg. examples')\n",
    "plt.xlim(-0.25, 4.4)\n",
    "plt.ylim(1.5, 5.4)\n",
    "plt.legend(numpoints = 1, loc = 1)\n",
    "plt.show()"
   ]
  },
  {
   "cell_type": "code",
   "execution_count": 73,
   "metadata": {},
   "outputs": [
    {
     "data": {
      "text/plain": [
       "SVC(C=1, cache_size=200, class_weight=None, coef0=0.0,\n",
       "  decision_function_shape='ovr', degree=3, gamma='auto', kernel='linear',\n",
       "  max_iter=-1, probability=False, random_state=None, shrinking=True,\n",
       "  tol=0.001, verbose=False)"
      ]
     },
     "execution_count": 73,
     "metadata": {},
     "output_type": "execute_result"
    }
   ],
   "source": [
    "#Penalty parameter C of the error term.\n",
    "clf = SVC(C=1, kernel='linear')\n",
    "clf.fit(X_1, y_1)"
   ]
  },
  {
   "cell_type": "code",
   "execution_count": 74,
   "metadata": {},
   "outputs": [
    {
     "name": "stdout",
     "output_type": "stream",
     "text": [
      "support_vectors:\n",
      " [[1.5841   3.3575  ]\n",
      " [2.0103   3.2039  ]\n",
      " [2.3099   2.9584  ]\n",
      " [2.8283   2.6309  ]\n",
      " [1.3191   3.5109  ]\n",
      " [2.5403   2.8867  ]\n",
      " [3.5772   2.856   ]\n",
      " [3.1048   3.0709  ]\n",
      " [1.9182   4.0534  ]\n",
      " [2.6555   3.5008  ]\n",
      " [3.0357   3.3165  ]\n",
      " [0.086405 4.1045  ]] 12\n",
      "support_vectors_Index:\n",
      " [20 21 24 25 42 47  4 11 12 14 19 50] 12\n",
      "support_vectors_n-support:\n",
      " [6 6]\n"
     ]
    }
   ],
   "source": [
    "print('support_vectors:\\n',clf.support_vectors_,len(clf.support_vectors_))\n",
    "print('support_vectors_Index:\\n',clf.support_,len(clf.support_))\n",
    "print('support_vectors_n-support:\\n',clf.n_support_)"
   ]
  },
  {
   "cell_type": "markdown",
   "metadata": {},
   "source": [
    "$$ W_0x+W_1y+Intercept=0$$\n",
    "$$ W_1y=-W_0x-Intercept$$  \n",
    "$$ y=\\frac{-W_0x-Intercept}{W_1}$$  \n",
    "\n"
   ]
  },
  {
   "cell_type": "code",
   "execution_count": 75,
   "metadata": {},
   "outputs": [],
   "source": [
    "xs = sp.linspace(-1, 8)\n",
    "# Calculate the decision boundary\n",
    "b = clf.intercept_[0]\n",
    "w_0 = clf.coef_[0, 0]\n",
    "w_1 = clf.coef_[0, 1]\n",
    "a = - w_0 / w_1\n",
    "db_1 = a * xs - b / w_1\n",
    "# Store support vectors\n",
    "svs = clf.support_vectors_"
   ]
  },
  {
   "cell_type": "code",
   "execution_count": 76,
   "metadata": {},
   "outputs": [],
   "source": [
    "# plot the parallels to the separating hyperplane that pass through the\n",
    "# support vectors (margin away from hyperplane in direction\n",
    "# perpendicular to hyperplane). This is sqrt(1+a^2) away vertically in\n",
    "# 2-d.\n",
    "margin = 1 / np.sqrt(np.sum(clf.coef_ ** 2))\n",
    "margin_low  = db_1 - np.sqrt(1 + a ** 2) * margin\n",
    "margin_high = db_1 + np.sqrt(1 + a ** 2) * margin"
   ]
  },
  {
   "cell_type": "markdown",
   "metadata": {},
   "source": [
    "Line's equation is called the slope-intercept form, because k can be interpreted as the y-intercept of the line, that is, the y-coordinate where the line intersects the y-axis.\n",
    "If the slope m of a line and a point (x1,y1) on the line are both known, then the equation of the line can be found using the point-slope formula:\n",
    "\n",
    "\n",
    "$$ y-y_1 = m(x-x_1)$$  \n",
    "$$ y = m(x-x_1) + y_1$$\n",
    "\n",
    "\n"
   ]
  },
  {
   "cell_type": "code",
   "execution_count": 77,
   "metadata": {},
   "outputs": [
    {
     "name": "stdout",
     "output_type": "stream",
     "text": [
      "[1.5841 3.3575]\n",
      "1.5841\n",
      "[3.0357 3.3165]\n"
     ]
    }
   ],
   "source": [
    "# Calculate margins\n",
    "c = svs[0]\n",
    "print(c)\n",
    "margin_low = a * (xs - c[0]) + c[1] # line of slope \"a\" passing through point \"(c[0], c[1])\"\n",
    "print(c[0])\n",
    "c = svs[-2]\n",
    "margin_high = a * (xs - c[0]) + c[1]\n",
    "print(c)"
   ]
  },
  {
   "cell_type": "code",
   "execution_count": null,
   "metadata": {},
   "outputs": [
    {
     "data": {
      "image/png": "[encoded data removed]",
      "text/plain": [
       "<matplotlib.figure.Figure at 0x7f6c7808fc50>"
      ]
     },
     "metadata": {},
     "output_type": "display_data"
    }
   ],
   "source": [
    "plt.figure(figsize=(8,5))\n",
    "plt.plot(X_1[y_1 == 0].T[0], X_1[y_1 == 0].T[1], 'yo', ms=8, label='Pos. examples')\n",
    "plt.plot(X_1[y_1 == 1].T[0], X_1[y_1 == 1].T[1], 'k+', ms=8, label='Neg. examples')\n",
    "plt.plot(xs, db_1, 'b-', lw=1, label='Decision boundary')\n",
    "plt.plot(xs, margin_low, 'b--', lw=0.5, label='Margin')\n",
    "plt.plot(xs, margin_high, 'b--', lw=0.5)\n",
    "plt.plot(svs.T[0], svs.T[1], marker='o', ls='none', ms=15, mfc='none', mec='b', mew=0.5, label='Support vectors')\n",
    "plt.xlim(-0.25, 4.4)\n",
    "plt.ylim(1.25, 6.9)\n",
    "plt.legend(numpoints = 1, loc = 1)\n",
    "plt.show()"
   ]
  },
  {
   "cell_type": "code",
   "execution_count": null,
   "metadata": {},
   "outputs": [],
   "source": [
    "clf = SVC(C=100, kernel='linear')\n",
    "clf.fit(X_1, y_1)"
   ]
  },
  {
   "cell_type": "code",
   "execution_count": null,
   "metadata": {},
   "outputs": [],
   "source": [
    "xs = sp.linspace(-1, 8)\n",
    "\n",
    "# Calculate the decision boundary\n",
    "b = clf.intercept_[0]\n",
    "w_0 = clf.coef_[0, 0]\n",
    "w_1 = clf.coef_[0, 1]\n",
    "a = - w_0 / w_1\n",
    "db_1 = a * xs - b / w_1\n",
    "\n",
    "# Store support vectors\n",
    "svs = clf.support_vectors_"
   ]
  },
  {
   "cell_type": "code",
   "execution_count": null,
   "metadata": {},
   "outputs": [],
   "source": [
    "# Calculate margins\n",
    "c = svs[0]\n",
    "margin_low = a * (xs - c[0]) + c[1] # line of slope \"a\" passing through point \"(c[0], c[1])\"\n",
    "c = svs[-2]\n",
    "margin_high = a * (xs - c[0]) + c[1]"
   ]
  },
  {
   "cell_type": "code",
   "execution_count": null,
   "metadata": {},
   "outputs": [],
   "source": [
    "margin = 1 / np.sqrt(np.sum(clf.coef_ ** 2))\n",
    "margin_low  = db_1 - np.sqrt(1 + a ** 2) * margin\n",
    "margin_high = db_1 + np.sqrt(1 + a ** 2) * margin"
   ]
  },
  {
   "cell_type": "code",
   "execution_count": null,
   "metadata": {},
   "outputs": [],
   "source": [
    "plt.figure(figsize=(8,5))\n",
    "plt.plot(X_1[y_1 == 0].T[0], X_1[y_1 == 0].T[1], 'yo', ms=8, label='Pos. examples')\n",
    "plt.plot(X_1[y_1 == 1].T[0], X_1[y_1 == 1].T[1], 'k+', ms=8, label='Neg. examples')\n",
    "plt.plot(xs, db_1, 'b-', lw=1, label='Decision boundary')\n",
    "plt.plot(xs, margin_low, 'b--', lw=0.5, label='Margin')\n",
    "plt.plot(xs, margin_high, 'b--', lw=0.5)\n",
    "plt.plot(svs.T[0], svs.T[1], marker='o', ls='none', ms=15, mfc='none', mec='b', mew=0.5, label='Support vectors')\n",
    "plt.xlim(-0.25, 4.4)\n",
    "plt.ylim(1.25, 6.9)\n",
    "plt.legend(numpoints = 1, loc = 1)\n",
    "plt.show()"
   ]
  },
  {
   "cell_type": "markdown",
   "metadata": {},
   "source": [
    "## SVM with Gaussian Kernels"
   ]
  },
  {
   "cell_type": "markdown",
   "metadata": {},
   "source": [
    "I will be using SVMs to do non-linear classification. In particular, I will be using SVMs with Gaussian kernels on\n",
    "datasets that are not linearly separable.  \n",
    "\n",
    "To find non-linear decision boundaries with the SVM, we need to first implement a Gaussian kernel. You can think of the **Gaussian kernel as a similarity function that measures the “distance” between a pair of examples,\n",
    "(x(i) , x(j) ). The Gaussian kernel is also parameterized by a bandwidth parameter**, σ, which determines how fast the similarity metric decreases (to 0) as the examples are further apart."
   ]
  },
  {
   "cell_type": "markdown",
   "metadata": {},
   "source": [
    "$$K_{gaussian}(x^{(i)},x^{(j)}) = exp\\bigg(-\\frac{||x^{(i)},x^{(j)}||^2}{2\\sigma²}\\bigg)$$  \n",
    "\n",
    "$$K_{gaussian}(x^{(i)},x^{(j)}) = exp\\Bigg(-\\frac{{\\sum\\limits_{k=1}^n}||x_{k}^{(i)},x_{k}^{(j)}||^2}{2\\sigma^2}\\Bigg)$$  \n"
   ]
  },
  {
   "cell_type": "code",
   "execution_count": null,
   "metadata": {},
   "outputs": [],
   "source": [
    "X_2 = dataset_2['X']\n",
    "print('X_2:\\n',X_2[0:3])\n",
    "y_2 = dataset_2['y'].reshape(-1)\n",
    "print ('reshape(-1):\\n',y_2[0:3])"
   ]
  },
  {
   "cell_type": "code",
   "execution_count": null,
   "metadata": {},
   "outputs": [],
   "source": [
    "sigma = 0.1\n",
    "gamma = 1 / 2 / sigma**2\n",
    "clf = SVC(C=1, gamma=gamma, kernel='rbf')\n",
    "clf.fit(X_2, y_2)"
   ]
  },
  {
   "cell_type": "code",
   "execution_count": null,
   "metadata": {},
   "outputs": [],
   "source": [
    "x_0_pts, x_1_pts = sp.linspace(0, 1, 500), sp.linspace(0, 1, 500)\n",
    "print('x_0_pts:',x_0_pts.shape,'x_1_pts:',x_1_pts.shape)\n",
    "x_0_pts_mesh, x_1_pts_mesh = sp.meshgrid(x_0_pts, x_1_pts)\n",
    "print('x_0_pts_mesh',x_0_pts_mesh.shape,'x_0_pts_mesh',x_0_pts_mesh.shape)\n",
    "z = clf.predict(sp.vstack((x_0_pts_mesh.ravel(), x_1_pts_mesh.ravel())).T).reshape(x_0_pts_mesh.shape)\n",
    "print('z:',z.shape)"
   ]
  },
  {
   "cell_type": "markdown",
   "metadata": {},
   "source": [
    "I can obserse that there is no linear decision boundary that\n",
    "separates the positive and negative examples for this dataset. However, by\n",
    "using the Gaussian kernel with the SVM, i will be able to learn a non-linear\n",
    "decision boundary that can perform reasonably well for the dataset.\n",
    "\n",
    "After running the code, the decision boundary is able to separate most of the positive and\n",
    "negative examples correctly and follows the contours of the dataset well."
   ]
  },
  {
   "cell_type": "code",
   "execution_count": null,
   "metadata": {},
   "outputs": [],
   "source": [
    "f, (ax1, ax2) = plt.subplots(1, 2, sharey=True)\n",
    "f.set_size_inches(10,6)\n",
    "ax1.plot(X_2[y_2 == 0].T[0], X_2[y_2 == 0].T[1], 'yo', ms=8, label='Pos. examples')\n",
    "ax1.plot(X_2[y_2 == 1].T[0], X_2[y_2 == 1].T[1], 'k+', ms=8, label='Neg. examples')\n",
    "ax1.legend(numpoints = 1, loc = 1)\n",
    "ax1.set_xlim([-0.01, 1.05])\n",
    "ax1.set_ylim([0.37, 1.16])\n",
    "\n",
    "\n",
    "ax2.plot(X_2[y_2 == 0].T[0], X_2[y_2 == 0].T[1], 'yo', ms=8, alpha=0.75, label='Pos. examples')\n",
    "ax2.plot(X_2[y_2 == 1].T[0], X_2[y_2 == 1].T[1], 'k+', ms=8, alpha=0.75, label='Neg. examples')\n",
    "ax2.contour(x_0_pts, x_1_pts, z, [0])\n",
    "ax2.legend(numpoints = 1, loc = 1)\n",
    "ax2.set_xlim([-0.01, 1.05])\n",
    "ax2.set_ylim([0.37, 1])"
   ]
  },
  {
   "cell_type": "markdown",
   "metadata": {},
   "source": [
    "The task is to use the cross validation set Xval, yval to determine the\n",
    "best C and σ parameter to use. "
   ]
  },
  {
   "cell_type": "code",
   "execution_count": null,
   "metadata": {},
   "outputs": [],
   "source": [
    "X_3 = dataset_3['X']\n",
    "y_3 = dataset_3['y'].reshape(-1)\n",
    "\n",
    "X_val_3 = dataset_3['Xval']\n",
    "y_val_3 = dataset_3['yval']\n",
    "\n",
    "vals = [0.01, 0.03, 0.1, 0.3, 1, 3, 10, 30]\n",
    "C_pts_mesh, sigma_pts_mesh = sp.meshgrid(vals, vals)\n",
    "scores = sp.vstack((C_pts_mesh.ravel(), sigma_pts_mesh.ravel(), sp.zeros(len(vals)**2))).T\n",
    "print('scores:\\n',scores[0:9])"
   ]
  },
  {
   "cell_type": "code",
   "execution_count": null,
   "metadata": {},
   "outputs": [],
   "source": [
    "for i, (C, sigma) in enumerate(scores[:, :2]):\n",
    "    gamma = 1 / 2 / sigma**2\n",
    "    clf = SVC(C=C, gamma=gamma, kernel='rbf')\n",
    "    clf.fit(X_3, y_3)\n",
    "    scores[i, 2] = clf.score(X_val_3, y_val_3)\n",
    "print('scores:\\n',scores[0:9])"
   ]
  },
  {
   "cell_type": "code",
   "execution_count": null,
   "metadata": {},
   "outputs": [],
   "source": [
    "highest_acc_index = scores[:, 2].argmax()\n",
    "C, sigma = scores[highest_acc_index][:2]\n",
    "print('scores[highest_acc_index]',C, sigma)\n",
    "gamma = 1 / 2 / sigma**2\n",
    "clf = SVC(C=C, gamma=gamma, kernel='rbf')\n",
    "clf.fit(X_3, y_3)"
   ]
  },
  {
   "cell_type": "code",
   "execution_count": null,
   "metadata": {},
   "outputs": [],
   "source": [
    "x_0_pts, x_1_pts = sp.linspace(-0.64, 0.35, 500), sp.linspace(-0.8, 0.65, 500)\n",
    "x_0_pts_mesh, x_1_pts_mesh = sp.meshgrid(x_0_pts, x_1_pts)\n",
    "z = clf.predict(sp.vstack((x_0_pts_mesh.ravel(), x_1_pts_mesh.ravel())).T).reshape(x_0_pts_mesh.shape)"
   ]
  },
  {
   "cell_type": "code",
   "execution_count": null,
   "metadata": {},
   "outputs": [],
   "source": [
    "f, (ax1, ax2) = plt.subplots(1, 2, sharey=True)\n",
    "f.set_size_inches(10,6)\n",
    "ax1.plot(X_3[y_3 == 0].T[0], X_3[y_3 == 0].T[1], 'yo', ms=8, label='Pos. examples')\n",
    "ax1.plot(X_3[y_3 == 1].T[0], X_3[y_3 == 1].T[1], 'k+', ms=8, label='Neg. examples')\n",
    "ax1.legend(numpoints = 1, loc = 1)\n",
    "ax1.set_ylim([-0.7, 0.8])\n",
    "\n",
    "ax2.plot(X_3[y_3 == 0].T[0], X_3[y_3 == 0].T[1], 'yo', ms=8, alpha=0.75, label='Pos. examples')\n",
    "ax2.plot(X_3[y_3 == 1].T[0], X_3[y_3 == 1].T[1], 'k+', ms=8, alpha=0.75, label='Neg. examples')\n",
    "ax2.contour(x_0_pts, x_1_pts, z, [0])\n",
    "ax2.legend(numpoints = 1, loc = 1)\n",
    "ax2.set_ylim([-0.7, 0.8])\n"
   ]
  }
 ],
 "metadata": {
  "kernelspec": {
   "display_name": "Python 3",
   "language": "python",
   "name": "python3"
  },
  "language_info": {
   "codemirror_mode": {
    "name": "ipython",
    "version": 3
   },
   "file_extension": ".py",
   "mimetype": "text/x-python",
   "name": "python",
   "nbconvert_exporter": "python",
   "pygments_lexer": "ipython3",
   "version": "3.5.2"
  },
  "varInspector": {
   "cols": {
    "lenName": 16,
    "lenType": 16,
    "lenVar": 40
   },
   "kernels_config": {
    "python": {
     "delete_cmd_postfix": "",
     "delete_cmd_prefix": "del ",
     "library": "var_list.py",
     "varRefreshCmd": "print(var_dic_list())"
    },
    "r": {
     "delete_cmd_postfix": ") ",
     "delete_cmd_prefix": "rm(",
     "library": "var_list.r",
     "varRefreshCmd": "cat(var_dic_list()) "
    }
   },
   "types_to_exclude": [
    "module",
    "function",
    "builtin_function_or_method",
    "instance",
    "_Feature"
   ],
   "window_display": false
  }
 },
 "nbformat": 4,
 "nbformat_minor": 2
}
