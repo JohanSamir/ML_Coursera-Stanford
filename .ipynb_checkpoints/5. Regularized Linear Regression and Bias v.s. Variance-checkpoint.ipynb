{
 "cells": [
  {
   "cell_type": "markdown",
   "metadata": {},
   "source": [
    "#  Regularized Linear Regression and Bias-Variance"
   ]
  },
  {
   "cell_type": "code",
   "execution_count": 58,
   "metadata": {},
   "outputs": [],
   "source": [
    "import numpy as np\n",
    "from scipy.io import loadmat\n",
    "import matplotlib.pyplot as plt\n",
    "import scipy.optimize as opt"
   ]
  },
  {
   "cell_type": "code",
   "execution_count": 59,
   "metadata": {},
   "outputs": [
    {
     "data": {
      "text/plain": [
       "dict_keys(['ytest', 'yval', '__globals__', 'Xtest', '__version__', 'y', 'Xval', 'X', '__header__'])"
      ]
     },
     "execution_count": 59,
     "metadata": {},
     "output_type": "execute_result"
    }
   ],
   "source": [
    "mat_data = loadmat('5. Regularized Linear Regression and Bias -Variance/ex5/ex5data1.mat')\n",
    "mat_data.keys()"
   ]
  },
  {
   "cell_type": "markdown",
   "metadata": {},
   "source": [
    "The dataset containing historical records on the\n",
    "change in the water level, x, and the amount of water flowing out of the dam,\n",
    "y.\n",
    "\n",
    "_This dataset is divided into three parts:_\n",
    "\n",
    "• A training set that your model will learn on: X, y.  \n",
    "• A cross validation set for determining the regularization parameter:\n",
    "Xval, yval.  \n",
    "• A test set for evaluating performance. These are “unseen” examples\n",
    "which your model did not see during training: Xtest, ytest.  "
   ]
  },
  {
   "cell_type": "code",
   "execution_count": 60,
   "metadata": {},
   "outputs": [
    {
     "name": "stdout",
     "output_type": "stream",
     "text": [
      "X_train: (12, 1) y_train: (12,)\n",
      "Xval: (21, 1) yval: (21,)\n"
     ]
    }
   ],
   "source": [
    "X = mat_data['X']\n",
    "y = mat_data['y'].ravel()\n",
    "X_test = mat_data['Xtest']\n",
    "y_test = mat_data['ytest'].ravel()\n",
    "X_val = mat_data['Xval']\n",
    "y_val = mat_data['yval'].ravel()\n",
    "m = X.shape[0]\n",
    "m_val = X_val.shape[0]\n",
    "m_test = X_test.shape[0]\n",
    "\n",
    "print('X_train:', X.shape,'y_train:', y.shape)\n",
    "print('Xval:', X_val.shape,'yval:', y_val.shape)"
   ]
  },
  {
   "cell_type": "markdown",
   "metadata": {},
   "source": [
    "**plt.scatter** allows you to specify a different colour and a different size for each point individually. It is not possible to do that with plot.\n",
    "In **plt.plot**, on the other hand, the points are always essentially clones of each other, so the work of determining the appearance of the points is done only once for the entire set of data. For large datasets, the difference between these two can lead to vastly different performance,"
   ]
  },
  {
   "cell_type": "code",
   "execution_count": 61,
   "metadata": {},
   "outputs": [
    {
     "data": {
      "image/png": "[encoded data removed]",
      "text/plain": [
       "<matplotlib.figure.Figure at 0x7fdd2296c160>"
      ]
     },
     "metadata": {},
     "output_type": "display_data"
    }
   ],
   "source": [
    "plt.figure(figsize=(8,5))\n",
    "plt.plot(X, y, linestyle='', marker='x', color='r')\n",
    "plt.xlabel('Change in water level (x)')\n",
    "plt.ylabel('Water flowing out of the dam (y)')\n",
    "plt.grid(True)\n",
    "plt.show()\n"
   ]
  },
  {
   "cell_type": "markdown",
   "metadata": {},
   "source": [
    "The objective of linear regression is to minimize the cost function:\n",
    "\n",
    "$${J(\\theta) = {\\frac{1}{2m}}{\\sum\\limits_{i=1}^m}(h_{\\theta}(x^{(i)})+y^{(i)})^2)}+ \\frac{\\lambda}{2m}\\bigg(\\sum_{j=1}^{n}\\theta_{j}^{(2)}\\bigg)$$ \n",
    "\n",
    "where λ is a regularization parameter which controls the degree of regularization (thus, help preventing overfitting). The regularization term puts a\n",
    "penalty on the overal cost J. As the magnitudes of the model parameters θj\n",
    "increase, the penalty increases as well. Note that you should not regularize\n",
    "the θ0 term."
   ]
  },
  {
   "cell_type": "code",
   "execution_count": 62,
   "metadata": {},
   "outputs": [],
   "source": [
    "def linear_reg_cost_function(theta, X, y, l):\n",
    "    m = X.shape[0]\n",
    "    j = 1.0 / (2 * m) * np.sum(np.square(X.dot(theta) - y)) + 1.0 * l / (2 * m) * np.sum(np.square(theta[1:]))\n",
    "    \n",
    "    #Note that you should not regularize the θ 0 term\n",
    "    mask = np.eye(len(theta))\n",
    "    mask[0, 0] = 0\n",
    "    grad = 1.0 / m * X.T.dot(X.dot(theta) - y) + 1.0 * l / m * (mask.dot(theta))\n",
    "    return j"
   ]
  },
  {
   "cell_type": "markdown",
   "metadata": {},
   "source": [
    "Correspondingly, the partial derivative of regularized linear regression’s cost\n",
    "for θj is defined as:\n",
    "\n",
    "$$ \\frac{\\delta J(\\theta)}{\\delta\\theta_{j}} = \\frac{1}{m}\\sum_{i=1}^{m} ( h_\\theta (x^{(i)})-y^{(i)})x^{(i)}_{j}\\hspace{0.5cm} for\\hspace{0.3cm} j = 0 $$ \n",
    "\n",
    "$$ \\frac{\\delta J(\\theta)}{\\delta\\theta_{j}} = \\bigg(\\frac{1}{m}\\sum_{i=1}^{m} ( h_\\theta (x^{(i)})-y^{(i)})x^{(i)}_{j}\\bigg) + \\frac{\\lambda}m  \\theta_j\\hspace{0.5cm} for\\hspace{0.3cm} j = 0 $$ "
   ]
  },
  {
   "cell_type": "code",
   "execution_count": 63,
   "metadata": {},
   "outputs": [],
   "source": [
    "def lrgradientReg(theta, X, y, l):\n",
    "    m = X.shape[0]  \n",
    "    #Note that you should not regularize the θ 0 term\n",
    "    mask = np.eye(len(theta))\n",
    "    mask[0, 0] = 0\n",
    "    grad = 1.0 / m * X.T.dot(X.dot(theta) - y) + 1.0 * l / m * (mask.dot(theta))\n",
    "    return grad"
   ]
  },
  {
   "cell_type": "markdown",
   "metadata": {},
   "source": [
    "Calculate the gradient with the loaded data and theta of [1, 1]： "
   ]
  },
  {
   "cell_type": "code",
   "execution_count": 64,
   "metadata": {},
   "outputs": [
    {
     "name": "stdout",
     "output_type": "stream",
     "text": [
      "Gradient at theta = [1 ; 1]: [-15.30301567 598.25074417]\n",
      "(this value should be about [-15.303016; 598.250744])\n",
      "Cost at theta = [1 ; 1]: 303.9931922202643\n",
      "(this value should be about 303.993192)\n"
     ]
    }
   ],
   "source": [
    "theta = np.array([1, 1])\n",
    "j = linear_reg_cost_function(theta, np.hstack((np.ones((m, 1)), X)), y, 1)\n",
    "grad=  lrgradientReg(theta, np.hstack((np.ones((m, 1)), X)), y, 1)\n",
    "\n",
    "\n",
    "print ('Gradient at theta = [1 ; 1]:', grad.ravel())\n",
    "print ('(this value should be about [-15.303016; 598.250744])')\n",
    "\n",
    "print ('Cost at theta = [1 ; 1]:', j)\n",
    "print ('(this value should be about 303.993192)')"
   ]
  },
  {
   "cell_type": "markdown",
   "metadata": {},
   "source": [
    "This training function uses **minimize** (fmincg) to optimize the cost function.\n",
    "In this part, we set regularization parameter λ to zero. Because our\n",
    "current implementation of linear regression is trying to fit a 2-dimensional θ,\n",
    "regularization will not be incredibly helpful for a θ of such low dimension. In\n",
    "the later parts of the exercise, you will be using polynomial regression with\n",
    "regularization."
   ]
  },
  {
   "cell_type": "code",
   "execution_count": 65,
   "metadata": {},
   "outputs": [],
   "source": [
    "def train_linear_reg(X, y, l, iteration=200):\n",
    "    m, n = X.shape\n",
    "    initial_theta = np.zeros((n, 1))\n",
    "\n",
    "    result = opt.minimize(fun=linear_reg_cost_function, x0=initial_theta, args=(X, y, l), method='TNC', jac=lrgradientReg,\n",
    "                          options={'maxiter': iteration})\n",
    "    return result.x"
   ]
  },
  {
   "cell_type": "markdown",
   "metadata": {},
   "source": [
    "Train linear regression without regularization:"
   ]
  },
  {
   "cell_type": "code",
   "execution_count": 66,
   "metadata": {},
   "outputs": [
    {
     "data": {
      "image/png": "[encoded data removed]",
      "text/plain": [
       "<matplotlib.figure.Figure at 0x7fdd2330dfd0>"
      ]
     },
     "metadata": {},
     "output_type": "display_data"
    }
   ],
   "source": [
    "l = 0.0\n",
    "theta = train_linear_reg(np.hstack((np.ones((m, 1)), X)), y, l)\n",
    "pred = np.hstack((np.ones((m, 1)), X)).dot(theta)\n",
    "\n",
    "plt.figure(figsize=(8,5))\n",
    "plt.plot(X, y, linestyle='', marker='x', color='r')\n",
    "plt.plot(X, pred, linestyle='-', marker='', color='g',label='Scipy optimize')\n",
    "plt.xlabel('Change in water level (x)')\n",
    "plt.ylabel('Water flowing out of the dam (y)')\n",
    "plt.ylim(ymin=-5)\n",
    "plt.xlim(xmin=-50)\n",
    "plt.xlim(xmax=40)\n",
    "plt.legend(loc=4)\n",
    "plt.grid(True)\n",
    "plt.show()"
   ]
  },
  {
   "cell_type": "markdown",
   "metadata": {},
   "source": [
    "An important concept in machine learning is the **bias-variance tradeoff.** Mod-\n",
    "els with high bias are not complex enough for the data and tend to underfit,\n",
    "while models with high variance overfit to the training data.\n",
    "\n",
    "I will now implement code to generate the learning curves that will be\n",
    "useful in debugging learning algorithms. Recall that a learning curve plots\n",
    "training and cross validation error as a function of training set size.\n",
    "To plot the learning curve, **I need a training and cross validation set\n",
    "error for different training set sizes.** To obtain different training set sizes,\n",
    "I should use different subsets of the original training set X."
   ]
  },
  {
   "cell_type": "code",
   "execution_count": 67,
   "metadata": {},
   "outputs": [],
   "source": [
    "def learning_curve(X, y, X_val, y_val, l):\n",
    "    m = X.shape[0]\n",
    "    m_val = X_val.shape[0]\n",
    "    error_train = np.zeros(m)\n",
    "    error_val = np.zeros(m)\n",
    "\n",
    "    for i in range(1, m + 1):\n",
    "        theta = train_linear_reg(X[:i, ], y[:i, ], l)\n",
    "        error_train[i - 1] = 1.0 / (2 * i) * np.sum(np.square(X[:i, ].dot(theta) - y[:i, ]))\n",
    "        error_val[i - 1] = 1.0 / (2 * m_val) * np.sum(np.square(X_val.dot(theta) - y_val))\n",
    "\n",
    "    return error_train, error_val\n"
   ]
  },
  {
   "cell_type": "markdown",
   "metadata": {},
   "source": [
    "I can observe that both the train error and cross validation\n",
    "error are high when the number of training examples is increased. This\n",
    "reflects a high bias problem in the model – the linear regression model is too simple and is unable to fit our dataset well."
   ]
  },
  {
   "cell_type": "code",
   "execution_count": 68,
   "metadata": {},
   "outputs": [
    {
     "data": {
      "image/png": "[encoded data removed]",
      "text/plain": [
       "<matplotlib.figure.Figure at 0x7fdd22860b00>"
      ]
     },
     "metadata": {},
     "output_type": "display_data"
    }
   ],
   "source": [
    "l = 0.0\n",
    "error_train, error_val = learning_curve(np.hstack((np.ones((m, 1)), X)), y, np.hstack((np.ones((m_val, 1)), X_val)), y_val, l)\n",
    "\n",
    "plt.figure(figsize=(8,5))\n",
    "plt.plot(range(1, m + 1), error_train, color='b', label='Train')\n",
    "plt.plot(range(1, m + 1), error_val, color='r', label='Cross Validation')\n",
    "plt.legend(loc='upper right')\n",
    "plt.xlabel('Number of training examples')\n",
    "plt.ylabel('Error')\n",
    "plt.grid(True)\n",
    "plt.show()"
   ]
  },
  {
   "cell_type": "markdown",
   "metadata": {},
   "source": [
    "## Polynomial regression"
   ]
  },
  {
   "cell_type": "markdown",
   "metadata": {},
   "source": [
    "The problem with our linear model was that it was too simple for the data\n",
    "and resulted in underfitting (high bias). In this part of the exercise, I will\n",
    "address this problem by adding more features.  \n",
    "I will add more features using the **higher powers of the existing\n",
    "feature x in the dataset**. Now I will have a function that will map features to a higher dimension.  \n",
    "I obtain a linear regression model where the features are the\n",
    "various powers of the original value (waterLevel)"
   ]
  },
  {
   "cell_type": "markdown",
   "metadata": {},
   "source": [
    "$$h_\\theta(x) = \\theta_0+\\theta_1(waterLevel)+\\theta_2(waterLevel)^2+...+\\theta_p(waterLevel)^p$$  \n",
    "$$h_\\theta(x) = \\theta_0+\\theta_1(x_1)+\\theta_2(x_2)+...+\\theta_p(x_p)$$ "
   ]
  },
  {
   "cell_type": "code",
   "execution_count": 69,
   "metadata": {},
   "outputs": [],
   "source": [
    "def poly_features(X, p):\n",
    "    X_poly = np.zeros((len(X), p))\n",
    "\n",
    "    for i in range(p):\n",
    "        X_poly[:, i] = np.power(X, i + 1).ravel()\n",
    "\n",
    "    return X_poly"
   ]
  },
  {
   "cell_type": "markdown",
   "metadata": {},
   "source": [
    "I will proceed to train polynomial regression using the linear regression cost function.\n",
    "Keep in mind that even though I have polynomial terms in my feature\n",
    "vector,I am still solving a linear regression optimization problem. The\n",
    "polynomial terms have simply turned into features that I can use for linear\n",
    "regression. i am using the same cost function and gradient that i wrote\n",
    "for the earlier part of this exercise.  \n",
    "It turns out that if I run the training directly on the projected data, will\n",
    "not work well as the features would be badly scaled. Therefore, I will\n",
    "need to use **feature normalization**."
   ]
  },
  {
   "cell_type": "code",
   "execution_count": 70,
   "metadata": {},
   "outputs": [],
   "source": [
    "def feature_normalize(X, mu=None, sigma=None):\n",
    "    \n",
    "    if mu is None:\n",
    "        mu = np.mean(X, axis=0)\n",
    "\n",
    "    if sigma is None:\n",
    "        sigma = np.std(X, ddof=1, axis=0)\n",
    "\n",
    "    X_norm = (X - mu) / sigma\n",
    "\n",
    "    return X_norm, mu, sigma\n"
   ]
  },
  {
   "cell_type": "code",
   "execution_count": 71,
   "metadata": {},
   "outputs": [
    {
     "name": "stdout",
     "output_type": "stream",
     "text": [
      "Normalized Training Example 1:\n",
      "[ 1.         -0.36214078 -0.75508669  0.18222588 -0.70618991  0.30661792\n",
      " -0.59087767  0.3445158  -0.50848117]\n"
     ]
    }
   ],
   "source": [
    "p = 8\n",
    "\n",
    "X_poly = poly_features(X, p)\n",
    "X_poly, mu, sigma = feature_normalize(X_poly)\n",
    "X_poly = np.hstack((np.ones((m, 1)), X_poly))\n",
    "\n",
    "X_poly_test = poly_features(X_test, p)\n",
    "X_poly_test, dummy_mu, dummy_sigma = feature_normalize(X_poly_test, mu, sigma)\n",
    "X_poly_test = np.hstack((np.ones((m_test, 1)), X_poly_test))\n",
    "\n",
    "X_poly_val = poly_features(X_val, p)\n",
    "X_poly_val, dummy_mu, dummy_sigma = feature_normalize(X_poly_val, mu, sigma)\n",
    "X_poly_val = np.hstack((np.ones((m_val, 1)), X_poly_val))\n",
    "\n",
    "print ('Normalized Training Example 1:')\n",
    "print (X_poly[0, :])"
   ]
  },
  {
   "cell_type": "code",
   "execution_count": 72,
   "metadata": {},
   "outputs": [],
   "source": [
    "def plot_fit(min_x, max_x, mu, sigma, theta, p):\n",
    "    \"\"\"\n",
    "    Plots a learned polynomial regression fit over an existing figure.\n",
    "    \"\"\"\n",
    "    x = np.arange(min_x - 15, max_x + 25, 0.05)\n",
    "    X_poly = poly_features(x, p)\n",
    "    X_poly, dummy_mu, dummy_sigma = feature_normalize(X_poly, mu, sigma)\n",
    "    X_poly = np.hstack((np.ones((X_poly.shape[0], 1)), X_poly))\n",
    "    plt.plot(x, X_poly.dot(theta), linestyle='--', marker='', color='b')\n"
   ]
  },
  {
   "cell_type": "markdown",
   "metadata": {},
   "source": [
    "I see that the polynomial fit is able to follow\n",
    "the datapoints very well - thus, obtaining a low training error. However, the\n",
    "polynomial fit is very complex and even drops off at the extremes. This is\n",
    "an indicator that the polynomial regression model is overfitting the training\n",
    "data and will not generalize well.    \n"
   ]
  },
  {
   "cell_type": "code",
   "execution_count": 73,
   "metadata": {},
   "outputs": [
    {
     "data": {
      "image/png": "[encoded data removed]",
      "text/plain": [
       "<matplotlib.figure.Figure at 0x7fdd25bc5be0>"
      ]
     },
     "metadata": {},
     "output_type": "display_data"
    }
   ],
   "source": [
    "l = 0.0\n",
    "theta = train_linear_reg(X_poly, y, l, iteration=500)\n",
    "\n",
    "plt.figure(figsize=(8,5))\n",
    "plt.plot(X, y, linestyle='', marker='x', color='r')\n",
    "plot_fit(np.min(X), np.max(X), mu, sigma, theta, p)\n",
    "plt.xlabel('Change in water level (x)')\n",
    "plt.ylabel('Water flowing out of the dam (y)')\n",
    "plt.title('Polynomial Regression Fit (lambda = {})'.format(l))\n",
    "plt.grid(True)\n",
    "plt.show()"
   ]
  },
  {
   "cell_type": "markdown",
   "metadata": {},
   "source": [
    "To better understand the problems with the unregularized (λ = 0) model,\n",
    "I can see that the learning curve below shows the same effect where\n",
    "the low training error is low, but the cross validation error is high. **There\n",
    "is a gap between the training and cross validation errors, indicating a high\n",
    "variance problem.**"
   ]
  },
  {
   "cell_type": "code",
   "execution_count": 74,
   "metadata": {},
   "outputs": [
    {
     "data": {
      "image/png": "[encoded data removed]",
      "text/plain": [
       "<matplotlib.figure.Figure at 0x7fdd22844e48>"
      ]
     },
     "metadata": {},
     "output_type": "display_data"
    }
   ],
   "source": [
    "error_train, error_val = learning_curve(X_poly, y, X_poly_val, y_val, l)\n",
    "plt.figure(figsize=(8,5))\n",
    "plt.plot(range(1, m + 1), error_train, color='b', marker='v', label='Train')\n",
    "plt.plot(range(1, m + 1), error_val, color='r', label='Cross Validation')\n",
    "plt.legend(loc='upper right')\n",
    "plt.title('Polynomial Regression Learning Curve (lambda = {})'.format(l))\n",
    "plt.xlabel('Number of training examples')\n",
    "plt.ylabel('Error')\n",
    "plt.grid(True)\n",
    "plt.show()"
   ]
  },
  {
   "cell_type": "markdown",
   "metadata": {},
   "source": [
    "One way to **combat the overfitting (high-variance) problem is to add\n",
    "regularization to the model.** In the next section, you will get to try different\n",
    "λ parameters to see how regularization can lead to a better model.  \n",
    "I will get to observe how the regularization parameter\n",
    "affects the bias-variance of regularized polynomial regression."
   ]
  },
  {
   "cell_type": "code",
   "execution_count": 75,
   "metadata": {},
   "outputs": [],
   "source": [
    "def validation_curve(x, y, x_val, y_val):\n",
    "    \n",
    "    lambda_vec = np.array([0, 0.001, 0.003, 0.01, 0.03, 0.1, 0.3, 1, 3, 10])\n",
    "    error_train = np.zeros(len(lambda_vec))\n",
    "    error_val = np.zeros(len(lambda_vec))\n",
    "    m = x.shape[0]\n",
    "    m_val = x_val.shape[0]\n",
    "    for i in range(len(lambda_vec)):\n",
    "        l = lambda_vec[i]\n",
    "        theta = train_linear_reg(x, y, l)\n",
    "        error_train[i] = 1.0 / (2 * m) * np.sum(np.square(x.dot(theta) - y))\n",
    "        error_val[i] = 1.0 / (2 * m_val) * np.sum(np.square(x_val.dot(theta) - y_val))\n",
    "\n",
    "    return lambda_vec, error_train, error_val\n"
   ]
  },
  {
   "cell_type": "code",
   "execution_count": 76,
   "metadata": {},
   "outputs": [
    {
     "name": "stdout",
     "output_type": "stream",
     "text": [
      "# lambda / Train Error / Validation Error\n",
      "0.0      0.03004111    39.16013834\n",
      "0.001    0.11266230    9.83943871\n",
      "0.003    0.17085160    16.29553097\n",
      "0.01     0.22148790    16.94556638\n",
      "0.03     0.28186522    12.82899361\n",
      "0.1      0.45931772    7.58702816\n",
      "0.3      0.92177920    4.63677396\n",
      "1.0      2.07619970    4.26060173\n",
      "3.0      4.90136522    3.82293626\n",
      "10.0     16.09227272   9.94555423\n"
     ]
    },
    {
     "data": {
      "image/png": "[encoded data removed]",
      "text/plain": [
       "<matplotlib.figure.Figure at 0x7fdd2280b5c0>"
      ]
     },
     "metadata": {},
     "output_type": "display_data"
    }
   ],
   "source": [
    "lambda_vec, error_train, error_val = validation_curve(X_poly, y, X_poly_val, y_val)\n",
    "\n",
    "plt.figure(figsize=(8,5))\n",
    "plt.plot(lambda_vec, error_train, color='b', label='Train')\n",
    "plt.plot(lambda_vec, error_val, color='r', label='Cross Validation')\n",
    "plt.legend(loc='upper right')\n",
    "plt.xlabel('lambda')\n",
    "plt.ylabel('Error')\n",
    "plt.grid(True)\n",
    "\n",
    "\n",
    "print ('# lambda / Train Error / Validation Error')\n",
    "for i in range(len(lambda_vec)):\n",
    "    print ('{0:<8} {1:<13.8f} {2:<.8f}'.format(lambda_vec[i], error_train[i], error_val[i]))\n"
   ]
  },
  {
   "cell_type": "markdown",
   "metadata": {},
   "source": [
    "**The best value of regularization parameter lambda is around 3.**"
   ]
  }
 ],
 "metadata": {
  "kernelspec": {
   "display_name": "Python 3",
   "language": "python",
   "name": "python3"
  },
  "varInspector": {
   "cols": {
    "lenName": 16,
    "lenType": 16,
    "lenVar": 40
   },
   "kernels_config": {
    "python": {
     "delete_cmd_postfix": "",
     "delete_cmd_prefix": "del ",
     "library": "var_list.py",
     "varRefreshCmd": "print(var_dic_list())"
    },
    "r": {
     "delete_cmd_postfix": ") ",
     "delete_cmd_prefix": "rm(",
     "library": "var_list.r",
     "varRefreshCmd": "cat(var_dic_list()) "
    }
   },
   "types_to_exclude": [
    "module",
    "function",
    "builtin_function_or_method",
    "instance",
    "_Feature"
   ],
   "window_display": false
  }
 },
 "nbformat": 4,
 "nbformat_minor": 1
}
