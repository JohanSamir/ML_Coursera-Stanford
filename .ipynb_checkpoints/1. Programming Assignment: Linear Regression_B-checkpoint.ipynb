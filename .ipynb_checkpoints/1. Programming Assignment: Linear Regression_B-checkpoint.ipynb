{
 "cells": [
  {
   "cell_type": "code",
   "execution_count": 1,
   "metadata": {},
   "outputs": [
    {
     "data": {
      "text/html": [
       "<div>\n",
       "<style scoped>\n",
       "    .dataframe tbody tr th:only-of-type {\n",
       "        vertical-align: middle;\n",
       "    }\n",
       "\n",
       "    .dataframe tbody tr th {\n",
       "        vertical-align: top;\n",
       "    }\n",
       "\n",
       "    .dataframe thead th {\n",
       "        text-align: right;\n",
       "    }\n",
       "</style>\n",
       "<table border=\"1\" class=\"dataframe\">\n",
       "  <thead>\n",
       "    <tr style=\"text-align: right;\">\n",
       "      <th></th>\n",
       "      <th>0</th>\n",
       "      <th>1</th>\n",
       "      <th>2</th>\n",
       "    </tr>\n",
       "  </thead>\n",
       "  <tbody>\n",
       "    <tr>\n",
       "      <th>0</th>\n",
       "      <td>2104</td>\n",
       "      <td>3</td>\n",
       "      <td>399900</td>\n",
       "    </tr>\n",
       "    <tr>\n",
       "      <th>1</th>\n",
       "      <td>1600</td>\n",
       "      <td>3</td>\n",
       "      <td>329900</td>\n",
       "    </tr>\n",
       "    <tr>\n",
       "      <th>2</th>\n",
       "      <td>2400</td>\n",
       "      <td>3</td>\n",
       "      <td>369000</td>\n",
       "    </tr>\n",
       "    <tr>\n",
       "      <th>3</th>\n",
       "      <td>1416</td>\n",
       "      <td>2</td>\n",
       "      <td>232000</td>\n",
       "    </tr>\n",
       "    <tr>\n",
       "      <th>4</th>\n",
       "      <td>3000</td>\n",
       "      <td>4</td>\n",
       "      <td>539900</td>\n",
       "    </tr>\n",
       "  </tbody>\n",
       "</table>\n",
       "</div>"
      ],
      "text/plain": [
       "      0  1       2\n",
       "0  2104  3  399900\n",
       "1  1600  3  329900\n",
       "2  2400  3  369000\n",
       "3  1416  2  232000\n",
       "4  3000  4  539900"
      ]
     },
     "execution_count": 1,
     "metadata": {},
     "output_type": "execute_result"
    }
   ],
   "source": [
    "import numpy as np\n",
    "import pandas as pd\n",
    "\n",
    "data = pd.read_csv('1.Programming Assignment: Linear Regression/ex1/ex1data2.txt', sep = ',', header = None)\n",
    "X = data.iloc[:,0:2] # read first two columns into X\n",
    "X_1= data.iloc[:,0:2] # read first two columns into X\n",
    "y = data.iloc[:,2] # read the third column into y\n",
    "m = len(y) # no. of training samples\n",
    "data.head()"
   ]
  },
  {
   "cell_type": "code",
   "execution_count": 2,
   "metadata": {},
   "outputs": [],
   "source": [
    "#Feature Normalization\n",
    "mu = np.mean(X)\n",
    "sigma = np.std(X)\n",
    "\n",
    "X = (X - mu)/sigma\n",
    "#Adding the intercept term and initializing parameters\n",
    "ones = np.ones((m,1))\n",
    "X = np.hstack((ones, X))\n",
    "X_1 = np.hstack((ones, X_1))\n",
    "alpha = 0.01\n",
    "num_iters = 400\n",
    "theta = np.zeros((3,1))\n",
    "y = y[:,np.newaxis]"
   ]
  },
  {
   "cell_type": "code",
   "execution_count": 3,
   "metadata": {},
   "outputs": [
    {
     "name": "stdout",
     "output_type": "stream",
     "text": [
      "65591548106.45744\n"
     ]
    }
   ],
   "source": [
    "def computeCostMulti(X, y, theta):\n",
    "    temp = np.dot(X, theta) - y\n",
    "    return np.sum(np.power(temp, 2)) / (2*m)\n",
    "J = computeCostMulti(X, y, theta)\n",
    "print(J)"
   ]
  },
  {
   "cell_type": "code",
   "execution_count": 4,
   "metadata": {},
   "outputs": [
    {
     "name": "stdout",
     "output_type": "stream",
     "text": [
      "[[334302.06399328]\n",
      " [ 99411.44947359]\n",
      " [  3267.01285407]]\n"
     ]
    }
   ],
   "source": [
    "def gradientDescentMulti(X, y, theta, alpha, iterations):\n",
    "    m = len(y)\n",
    "    for _ in range(iterations):\n",
    "        temp = np.dot(X, theta) - y\n",
    "        temp = np.dot(X.T, temp)\n",
    "        theta = theta - (alpha/m) * temp\n",
    "    return theta\n",
    "theta = gradientDescentMulti(X, y, theta, alpha, num_iters)\n",
    "print(theta)"
   ]
  },
  {
   "cell_type": "code",
   "execution_count": 5,
   "metadata": {},
   "outputs": [
    {
     "name": "stdout",
     "output_type": "stream",
     "text": [
      "2105448288.6292474\n"
     ]
    }
   ],
   "source": [
    "J = computeCostMulti(X, y, theta)\n",
    "print(J)"
   ]
  },
  {
   "cell_type": "code",
   "execution_count": 6,
   "metadata": {},
   "outputs": [
    {
     "name": "stdout",
     "output_type": "stream",
     "text": [
      "[1, -0.4460438603276164, -0.22609336757768828]\n",
      "Price: [289221.54737122]\n"
     ]
    }
   ],
   "source": [
    "temp = [1,1650,3];\n",
    "temp[1:3] = (temp[1:3] - mu)/sigma\n",
    "print(temp)\n",
    "price = theta.T.dot(temp);\n",
    "print('Price:', price)\n"
   ]
  },
  {
   "cell_type": "code",
   "execution_count": 7,
   "metadata": {},
   "outputs": [],
   "source": [
    "from numpy.linalg import inv\n",
    "\n",
    "def normal_eq(X, y):\n",
    "    return inv(X.T.dot(X)).dot(X.T).dot(y)\n",
    "\n",
    "theta = normal_eq(X_1, y)\n",
    "cost = computeCostMulti(X_1, y, theta)"
   ]
  },
  {
   "cell_type": "code",
   "execution_count": 8,
   "metadata": {},
   "outputs": [
    {
     "name": "stdout",
     "output_type": "stream",
     "text": [
      "theta: [89597.9095428    139.21067402 -8738.01911233]\n",
      "cost: 2043280050.6028287\n",
      "Predicted price of a 1650 sq-ft, 3 br house (using normal equations):\n",
      "Price: [293081.4643349]\n"
     ]
    }
   ],
   "source": [
    "print('theta:', theta.ravel())\n",
    "print('cost:', cost)\n",
    "\n",
    "temp = [1,1650,3];\n",
    "print('Predicted price of a 1650 sq-ft, 3 br house (using normal equations):')\n",
    "price_2 = theta.T.dot(temp);\n",
    "print('Price:', price_2)"
   ]
  }
 ],
 "metadata": {
  "kernelspec": {
   "display_name": "Python 3",
   "language": "python",
   "name": "python3"
  },
  "language_info": {
   "codemirror_mode": {
    "name": "ipython",
    "version": 3
   },
   "file_extension": ".py",
   "mimetype": "text/x-python",
   "name": "python",
   "nbconvert_exporter": "python",
   "pygments_lexer": "ipython3",
   "version": "3.5.2"
  },
  "varInspector": {
   "cols": {
    "lenName": 16,
    "lenType": 16,
    "lenVar": 40
   },
   "kernels_config": {
    "python": {
     "delete_cmd_postfix": "",
     "delete_cmd_prefix": "del ",
     "library": "var_list.py",
     "varRefreshCmd": "print(var_dic_list())"
    },
    "r": {
     "delete_cmd_postfix": ") ",
     "delete_cmd_prefix": "rm(",
     "library": "var_list.r",
     "varRefreshCmd": "cat(var_dic_list()) "
    }
   },
   "types_to_exclude": [
    "module",
    "function",
    "builtin_function_or_method",
    "instance",
    "_Feature"
   ],
   "window_display": false
  }
 },
 "nbformat": 4,
 "nbformat_minor": 2
}
