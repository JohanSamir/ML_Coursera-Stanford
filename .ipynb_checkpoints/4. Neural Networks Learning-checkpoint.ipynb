{
 "cells": [
  {
   "cell_type": "markdown",
   "metadata": {},
   "source": [
    "# Neural Network Learning"
   ]
  },
  {
   "cell_type": "markdown",
   "metadata": {},
   "source": [
    "I will implement the backpropagation algorithm for neural networks and apply it to the task of hand-written digit recognition with the weights that were provided"
   ]
  },
  {
   "cell_type": "code",
   "execution_count": 27,
   "metadata": {},
   "outputs": [],
   "source": [
    "import numpy as np\n",
    "from scipy.io import loadmat\n",
    "import matplotlib.pyplot as plt\n",
    "import pandas as pd"
   ]
  },
  {
   "cell_type": "code",
   "execution_count": 28,
   "metadata": {},
   "outputs": [],
   "source": [
    "input_layer_size = 400   # 20x20 Input Images of Digits\n",
    "hidden_layer_size = 25   # 25 hidden units\n",
    "num_labels = 10          # 10 labels, from 1 to 10 (note that we have mapped \"0\" to label 10)"
   ]
  },
  {
   "cell_type": "code",
   "execution_count": 29,
   "metadata": {},
   "outputs": [
    {
     "name": "stdout",
     "output_type": "stream",
     "text": [
      "X.shape (5000, 400)\n",
      "Neural Network Input layer size (20x20 pixels) 400\n",
      "Hidden layer size 25\n",
      "Number of labels 10\n"
     ]
    }
   ],
   "source": [
    "# Load Training Data\n",
    "mat_data = loadmat('4. Neural Networks Learning/ex4/ex4data1.mat')\n",
    "X = mat_data['X']\n",
    "y = mat_data['y'].ravel()\n",
    "print('X.shape',X.shape)\n",
    "m, n = X.shape\n",
    "\n",
    "input_layer_size = 400   # 20x20 Input Images of Digits\n",
    "hidden_layer_size = 25   # 25 hidden units\n",
    "num_labels = 10          # 10 labels, from 1 to 10 (note that we have mapped \"0\" to label 10)\n",
    "\n",
    "print('Neural Network Input layer size (20x20 pixels)',input_layer_size) \n",
    "print('Hidden layer size', hidden_layer_size)\n",
    "print('Number of labels',num_labels)"
   ]
  },
  {
   "cell_type": "code",
   "execution_count": 30,
   "metadata": {},
   "outputs": [
    {
     "name": "stdout",
     "output_type": "stream",
     "text": [
      "theta1 : (25, 401) theta2 : (10, 26)\n",
      "params : (10285,) \n",
      "\n"
     ]
    }
   ],
   "source": [
    "mat_param = loadmat('4. Neural Networks Learning/ex4/ex4weights.mat')\n",
    "theta_1 = mat_param['Theta1']\n",
    "theta_2 = mat_param['Theta2']\n",
    "print('theta1 :', theta_1.shape,'theta2 :', theta_2.shape)\n",
    "\n",
    "# Unroll parameters\n",
    "params_trained = np.hstack((theta_1.flatten(), theta_2.flatten()))\n",
    "print('params :', params_trained .shape,'\\n')\n"
   ]
  },
  {
   "cell_type": "markdown",
   "metadata": {},
   "source": [
    "Let's first define a few variables that we will need to use:\n",
    "\n",
    "    L = total number of layers in the network\n",
    "    s_l = number of units (not counting bias unit) in layer l\n",
    "    K = number of output units/classes\n",
    "\n",
    "\n",
    "I assume that the neural network will only have 3 layers – an input\n",
    "layer, a hidden layer and an output layer.\n",
    "\n",
    "**Cost Function** \n",
    "$$ J(\\theta) = \\frac{1}{m}\\sum_{i=1}^{m}\\sum_{k=1}^{K}\\big[-y^{(i)}_{k}\\, log\\,(( h_\\theta\\,(x^{(i)}))_k)-(1-y^{(i)}_k)\\,log\\,(1-h_\\theta(x^{(i)}))_k)\\big]$$\n",
    "\n",
    "\n",
    "**Regularized Cost Function**\n",
    "$$ J(\\theta) = \\frac{1}{m}\\sum_{i=1}^{m}\\sum_{k=1}^{K}\\bigg[-y^{(i)}_{k}\\, log\\,(( h_\\theta\\,(x^{(i)}))_k)-(1-y^{(i)}_k)\\,log\\,(1-h_\\theta(x^{(i)}))_k)\\bigg] + \\frac{\\lambda}{2m}\\bigg[\\sum_{l=1}^{L-1}\\sum_{i=1}^{s_l}\\sum_{j=1}^{s_{l+1}}(\\Theta_{ji}^{(l)})^2\\bigg]$$\n",
    "\n",
    "\n",
    "Now for the formula: (note that the formula is for a whole batch of m input samples).\n",
    "\n",
    "The summation symbol is just another way of writing a for-loop so what the three summations means is this: for each layer l and for every pair of connecting units i and j, take the square of the weight from j to i, then add everything\n",
    "\n",
    " \n",
    "Regularized Cost Function\n",
    "$$ J(\\theta) = \\frac{1}{m}\\sum_{i=1}^{m}\\sum_{k=1}^{K}\\bigg[-y^{(i)}_{k}\\, log\\,(( h_\\theta\\,(x^{(i)}))_k)-(1-y^{(i)}_k)\\,log\\,(1-h_\\theta(x^{(i)}))_k)\\bigg] + \\frac{\\lambda}{2m}\\bigg[\\sum_{j=1}^{25}\\sum_{k=1}^{400}(\\Theta_{j,k}^{(1)})^2+\\sum_{j=1}^{10}\\sum_{k=1}^{25}(\\Theta_{j,k}^{(2)})^2\\bigg]$$"
   ]
  },
  {
   "cell_type": "markdown",
   "metadata": {},
   "source": [
    "The `nn_cost_function()` implements the neural network cost function for a two layer neural network which performs classification."
   ]
  },
  {
   "cell_type": "code",
   "execution_count": 31,
   "metadata": {
    "code_folding": []
   },
   "outputs": [],
   "source": [
    "cost_history = []\n",
    "def nn_cost_function(nn_params, input_layer_size, hidden_layer_size, num_labels, X, y, l):\n",
    "    \n",
    "    Theta_1 = np.reshape(nn_params[0:(hidden_layer_size * (input_layer_size + 1)), ],\n",
    "                         (hidden_layer_size, input_layer_size + 1))\n",
    "    Theta_2 = np.reshape(nn_params[(hidden_layer_size * (input_layer_size + 1)):, ],\n",
    "                         (num_labels, hidden_layer_size + 1))\n",
    "\n",
    "    m, n = X.shape\n",
    "    X = np.hstack((np.ones((m, 1)), X))\n",
    "    #print('X',X.shape)\n",
    "    Z_2 = X.dot(Theta_1.T)\n",
    "    A_2 = sigmoid(Z_2)\n",
    "    A_2 = np.hstack((np.ones((m, 1)), A_2))\n",
    "\n",
    "    Z_3 = A_2.dot(Theta_2.T)\n",
    "    A_3 = sigmoid(Z_3)\n",
    "\n",
    "    '''Y = np.zeros((m, num_labels))\n",
    "    for i in range(m):\n",
    "        Y[i, y[i] - 1] = 1'''\n",
    "    \n",
    "    Y = pd.get_dummies(y.ravel()).as_matrix() \n",
    "                \n",
    "    j = np.trace(-np.dot(Y.T,np.log(A_3))-np.dot((1-Y.T),np.log(1-A_3)))/m\n",
    "    j += l*np.sum(np.square(Theta_1[:,1:]))/(2*m)+l*np.sum(np.square( Theta_2[:,1:]))/(2*m)\n",
    "    \n",
    "    cost_history.append(j)\n",
    "    \n",
    "        \n",
    "    grad = BackpropagationUpdates(A_3,A_2,Y,X,Theta_2,Theta_1,Z_2,m)\n",
    "    return j, grad\n"
   ]
  },
  {
   "cell_type": "markdown",
   "metadata": {},
   "source": [
    "I will implement the backpropagation algorithm. Recall that\n",
    "the intuition behind the backpropagation algorithm is as follows. Given a\n",
    "training example (x(t),y(t)), we will first run a “forward pass” to compute\n",
    "all the activations throughout the network, including the output value of the\n",
    "hypothesis hΘ(x).\n",
    "\n",
    "Then, for each node j in layer l, we would like to compute\n",
    "an “error term” δ that measures how much that node was “responsible”\n",
    "for any errors in our outpuT.\n",
    "\n",
    "**1.** For each output unit k in layer 3 (the output layer).\n",
    "\n",
    "$$ \\delta_{K}^{(3)} = a_{K}^{(3)}-y_k $$\n",
    "\n",
    "**2.** For the hidden layer l = 2\n",
    "$$ \\delta^{(2)} = \\big(\\theta^{(2)}\\big)^{T} \\delta^{(3)}.* g^{'}\\big(z^{(2)}\\big)$$\n",
    "\n",
    "**3.** Accumulate the gradient from this example using the following formula.\n",
    "\n",
    "$$ \\Delta^{(l)} := \\Delta^{(l)}+\\delta^{(l+1)}\\big(a^{(l)}\\big)^{T}$$\n",
    "\n",
    "**4.** Hence we update our new Δ matrix.\n",
    "\n",
    "$$ D_{i,j}^{(l)}= \\big(\\Delta_{(i,j)}^{(l)}+\\lambda \\theta_{i,j}^{(l)}\\big)$$\n",
    "\n"
   ]
  },
  {
   "cell_type": "code",
   "execution_count": 32,
   "metadata": {},
   "outputs": [],
   "source": [
    "def BackpropagationUpdates(A_3,A_2,Y,X,Theta_2,Theta_1,Z_2,m):\n",
    "   \n",
    "    d_3 = A_3 - Y\n",
    "    delta2 = d_3.T.dot(A_2)\n",
    "\n",
    "    Z_2 = np.hstack((np.ones((m, 1)), Z_2))\n",
    "    d_2 = d_3.dot(Theta_2) * sigmoid_gradient(Z_2)\n",
    "    d_2 = d_2[:, 1:]\n",
    "    delta1 = d_2.T.dot(X)\n",
    "\n",
    "    Theta_1_grad = 1.0 * delta1 / m\n",
    "    Theta_1_grad[:, 1:] = Theta_1_grad[:, 1:] + 1.0 * l / m * Theta_1[:, 1:]\n",
    "\n",
    "    Theta_2_grad = 1.0 * delta2/ m\n",
    "    Theta_2_grad[:, 1:] = Theta_2_grad[:, 1:] + 1.0 * l / m * Theta_2[:, 1:]\n",
    "\n",
    "    grad = np.hstack((Theta_1_grad.ravel(), Theta_2_grad.ravel()))\n",
    "\n",
    "    return grad"
   ]
  },
  {
   "cell_type": "markdown",
   "metadata": {},
   "source": [
    "The nn_cost_function() implements the neural network cost function for a two layer neural network which performs classification.\n",
    "\n",
    "Sigmoid gradient\n",
    "$$ g'(z) = g(z)(1 - g(z))$$\n",
    "where \n",
    "$$ g(z) = \\frac{1}{1+e^{-z}}$$\n"
   ]
  },
  {
   "cell_type": "code",
   "execution_count": 33,
   "metadata": {},
   "outputs": [],
   "source": [
    "def sigmoid(z):\n",
    "    g = 1 / (1 + np.exp(-z))\n",
    "    return g\n",
    "\n",
    "\n",
    "def sigmoid_gradient(z):\n",
    "    g = sigmoid(z) * (1 - sigmoid(z))\n",
    "    return g"
   ]
  },
  {
   "cell_type": "markdown",
   "metadata": {},
   "source": [
    "Compute the cost at the parameters loaded from `ex4weights.mat`:"
   ]
  },
  {
   "cell_type": "code",
   "execution_count": 34,
   "metadata": {},
   "outputs": [
    {
     "name": "stdout",
     "output_type": "stream",
     "text": [
      "X (5000, 400)\n",
      "Cost function for neural networks without regularization 0.28762916516131887\n"
     ]
    },
    {
     "name": "stderr",
     "output_type": "stream",
     "text": [
      "/home/johan/.local/lib/python3.5/site-packages/ipykernel_launcher.py:23: FutureWarning: Method .as_matrix will be removed in a future version. Use .values instead.\n"
     ]
    }
   ],
   "source": [
    "l = 0.0\n",
    "print('X',X.shape)\n",
    "print('Cost function for neural networks without regularization',\\\n",
    "      nn_cost_function(params_trained, input_layer_size, hidden_layer_size, num_labels, X, y, l)[0])"
   ]
  },
  {
   "cell_type": "markdown",
   "metadata": {},
   "source": [
    "Compute the cost at the parameters loaded from `ex4weights.mat` with regularization parameter set to 1.0: "
   ]
  },
  {
   "cell_type": "code",
   "execution_count": 35,
   "metadata": {},
   "outputs": [
    {
     "name": "stdout",
     "output_type": "stream",
     "text": [
      "X (5000, 400)\n",
      "Cost function for neural networks without regularization 0.3837698590909236\n"
     ]
    },
    {
     "name": "stderr",
     "output_type": "stream",
     "text": [
      "/home/johan/.local/lib/python3.5/site-packages/ipykernel_launcher.py:23: FutureWarning: Method .as_matrix will be removed in a future version. Use .values instead.\n"
     ]
    }
   ],
   "source": [
    "l = 1.0\n",
    "print('X',X.shape)\n",
    "print('Cost function for neural networks without regularization',\\\n",
    "      nn_cost_function(params_trained, input_layer_size, hidden_layer_size, num_labels, X, y, l)[0])"
   ]
  },
  {
   "cell_type": "markdown",
   "metadata": {},
   "source": [
    "Evaluating sigmoid gradient:"
   ]
  },
  {
   "cell_type": "code",
   "execution_count": 36,
   "metadata": {},
   "outputs": [
    {
     "name": "stdout",
     "output_type": "stream",
     "text": [
      "Sigmoid gradient evaluated at [-1 -0.5 0 0.5 1]:\n",
      "[0.19661193 0.23500371 0.25       0.23500371 0.19661193]\n"
     ]
    }
   ],
   "source": [
    "g = sigmoid_gradient(np.array([-1, -0.5, 0, 0.5, 1]))\n",
    "print ('Sigmoid gradient evaluated at [-1 -0.5 0 0.5 1]:')\n",
    "print (g)"
   ]
  },
  {
   "cell_type": "markdown",
   "metadata": {},
   "source": [
    "When training neural networks, it is important to randomly initialize the pa- rameters for symmetry breaking. One effective strategy for random initializa- tion is to randomly select values for Θ (l) uniformly in the range [−epsilon_init , epsilon_init ]. You should use epsilon_init = 0.12\n"
   ]
  },
  {
   "cell_type": "code",
   "execution_count": 37,
   "metadata": {},
   "outputs": [],
   "source": [
    "def rand_initialize_weights(l_in, l_out):\n",
    "    #Randomly initialize the weights of a layer with l_in incoming connections and l_out outgoing connections.\n",
    "    epsilon_init = 0.12\n",
    "\n",
    "    # Note that w should be set to a matrix of size(l_out, 1 + l_in) as the first column of W handles the \"bias\" terms\n",
    "    W = np.random.rand(l_out, 1 + l_in) * 2 * epsilon_init - epsilon_init\n",
    "\n",
    "    return W"
   ]
  },
  {
   "cell_type": "markdown",
   "metadata": {},
   "source": [
    "Randomly initializing neural network parameters:"
   ]
  },
  {
   "cell_type": "code",
   "execution_count": 38,
   "metadata": {},
   "outputs": [
    {
     "name": "stdout",
     "output_type": "stream",
     "text": [
      "initial_theta_1 : (25, 401)\n",
      "initial_theta_2 : (10, 26)\n",
      "initial_nn_params : (10285,)\n"
     ]
    }
   ],
   "source": [
    "initial_theta_1 = rand_initialize_weights(input_layer_size, hidden_layer_size)\n",
    "initial_theta_2 = rand_initialize_weights(hidden_layer_size, num_labels)\n",
    "initial_nn_params = np.hstack((initial_theta_1.ravel(), initial_theta_2.ravel()))\n",
    "\n",
    "print('initial_theta_1 :', initial_theta_1.shape)\n",
    "print('initial_theta_2 :', initial_theta_2.shape)\n",
    "print('initial_nn_params :', initial_nn_params.shape)"
   ]
  },
  {
   "cell_type": "markdown",
   "metadata": {},
   "source": [
    "Check backpropagation with regularization parameter set to 3.0:"
   ]
  },
  {
   "cell_type": "code",
   "execution_count": 39,
   "metadata": {},
   "outputs": [
    {
     "name": "stdout",
     "output_type": "stream",
     "text": [
      "Cost at (fixed) debugging parameters (w/ lambda = 3.0): 0.5760512469501331\n"
     ]
    },
    {
     "name": "stderr",
     "output_type": "stream",
     "text": [
      "/home/johan/.local/lib/python3.5/site-packages/ipykernel_launcher.py:23: FutureWarning: Method .as_matrix will be removed in a future version. Use .values instead.\n"
     ]
    }
   ],
   "source": [
    "l = 3.0\n",
    "debug_j, _ = nn_cost_function(params_trained, input_layer_size, hidden_layer_size, num_labels, X, y, l)\n",
    "print ('Cost at (fixed) debugging parameters (w/ lambda = {}): {}'.format(l, debug_j))"
   ]
  },
  {
   "cell_type": "markdown",
   "metadata": {},
   "source": [
    "With `nn_cost_function()` and randomly initialized parameters, we can train the neural network."
   ]
  },
  {
   "cell_type": "code",
   "execution_count": 40,
   "metadata": {},
   "outputs": [
    {
     "name": "stderr",
     "output_type": "stream",
     "text": [
      "/home/johan/.local/lib/python3.5/site-packages/ipykernel_launcher.py:23: FutureWarning: Method .as_matrix will be removed in a future version. Use .values instead.\n"
     ]
    }
   ],
   "source": [
    "#https://docs.scipy.org/doc/scipy/reference/generated/scipy.optimize.minimize.html\n",
    "\n",
    "import scipy.optimize as opt\n",
    "\n",
    "result = opt.minimize(fun=nn_cost_function, x0=initial_nn_params,\n",
    "                      args=(input_layer_size, hidden_layer_size, num_labels, X, y, l),\n",
    "                      method='TNC', jac=True, options={'maxiter': 150})\n",
    "params_trained = result.x\n",
    "Theta_1_trained = np.reshape(params_trained[0:(hidden_layer_size * (input_layer_size + 1)), ],\n",
    "                             (hidden_layer_size, input_layer_size + 1))\n",
    "Theta_2_trained = np.reshape(params_trained[(hidden_layer_size * (input_layer_size + 1)):, ],\n",
    "                             (num_labels, hidden_layer_size + 1))"
   ]
  },
  {
   "cell_type": "code",
   "execution_count": 41,
   "metadata": {},
   "outputs": [
    {
     "data": {
      "text/plain": [
       "(0, 6.859656383812468)"
      ]
     },
     "execution_count": 41,
     "metadata": {},
     "output_type": "execute_result"
    },
    {
     "data": {
      "text/plain": [
       "<matplotlib.figure.Figure at 0x7f9cdd3652e8>"
      ]
     },
     "metadata": {},
     "output_type": "display_data"
    },
    {
     "data": {
      "image/png": "[encoded data removed]",
      "text/plain": [
       "<matplotlib.figure.Figure at 0x7f9cdd3659e8>"
      ]
     },
     "metadata": {},
     "output_type": "display_data"
    }
   ],
   "source": [
    "num_steps = 100\n",
    "plt.figure()\n",
    "fig = plt.figure(figsize=(10, 4))\n",
    "plt.plot(np.array(cost_history[:num_steps]), '.g', linewidth=0.2)\n",
    "plt.xlabel('Steps')\n",
    "plt.ylabel('Cost')\n",
    "plt.xlim(-num_steps * 0.05, num_steps * 1.05)\n",
    "plt.ylim(0, max(cost_history[:num_steps]) * 1.05)\n"
   ]
  },
  {
   "cell_type": "markdown",
   "metadata": {},
   "source": [
    "**Visualizing the hidden layer**\n",
    "\n",
    "One way to understand what your neural network is learning is to visualize\n",
    "what the representations captured by the hidden units."
   ]
  },
  {
   "cell_type": "code",
   "execution_count": 42,
   "metadata": {},
   "outputs": [
    {
     "data": {
      "image/png": "[encoded data removed]",
      "text/plain": [
       "<matplotlib.figure.Figure at 0x7f9cdd4aeeb8>"
      ]
     },
     "metadata": {},
     "output_type": "display_data"
    }
   ],
   "source": [
    "import matplotlib.gridspec as gridspec\n",
    "\n",
    "L = hidden_layer_size+1\n",
    "N = X.shape[1] # = 5000 sample\n",
    "\n",
    "dim = int(np.sqrt(L - 1)) # L = dim x dim + 1, where the 1 counts the bias term.\n",
    "\n",
    "theta_1_learned = params_trained[:(L - 1) * (N + 1)].reshape(L - 1, N + 1)\n",
    "\n",
    "fig = plt.figure(figsize=(4, 4))\n",
    "\n",
    "#gridspec is a module which specifies the location of the subplot in the figure.\n",
    "#A class that specifies the geometry of the grid that a subplot will be placed.\n",
    "\n",
    "gs = gridspec.GridSpec(dim, dim)\n",
    "gs.update(bottom=0.01, top=0.99, left=0.01, right=0.99, \n",
    "          hspace=0.05, wspace=0.05)\n",
    "\n",
    "k = 0\n",
    "for i in range(dim):\n",
    "    for j in range(dim):\n",
    "        ax = plt.subplot(gs[i, j])\n",
    "        ax.axis('off')\n",
    "        ax.imshow(Theta_1_trained[k][1:].reshape(int(np.sqrt(N)), int(np.sqrt(N))).T,\n",
    "                 cmap=plt.get_cmap('Greys'), \n",
    "                 interpolation = 'nearest')\n",
    "        k += 1\n"
   ]
  },
  {
   "cell_type": "markdown",
   "metadata": {},
   "source": [
    "Now is time to do a prediction. The `predict()` function predicts the label of an input given a trained neural network."
   ]
  },
  {
   "cell_type": "code",
   "execution_count": 43,
   "metadata": {},
   "outputs": [
    {
     "name": "stdout",
     "output_type": "stream",
     "text": [
      "Training Set Accuracy: 96.7\n"
     ]
    }
   ],
   "source": [
    "def predict(Theta_1, Theta_2, X):\n",
    "    \n",
    "    m, n = X.shape\n",
    "    X = np.hstack((np.ones((m, 1)), X))\n",
    "    A_2 = sigmoid(X.dot(Theta_1.T))\n",
    "    A_2 = np.hstack((np.ones((m, 1)), A_2))\n",
    "    A_3 = sigmoid(A_2.dot(Theta_2.T))\n",
    "\n",
    "    p = np.argmax(A_3, axis=1)\n",
    "    p += 1  # The theta_1 and theta_2 are loaded from Matlab data, in which the matrix index starts from 1.\n",
    "\n",
    "    return p\n",
    "\n",
    "pred = predict(Theta_1_trained, Theta_2_trained, X)\n",
    "print ('Training Set Accuracy:', np.mean(pred == y) * 100)\n"
   ]
  }
 ],
 "metadata": {
  "anaconda-cloud": {},
  "kernelspec": {
   "display_name": "Python 3",
   "language": "python",
   "name": "python3"
  },
  "language_info": {
   "codemirror_mode": {
    "name": "ipython",
    "version": 3
   },
   "file_extension": ".py",
   "mimetype": "text/x-python",
   "name": "python",
   "nbconvert_exporter": "python",
   "pygments_lexer": "ipython3",
   "version": "3.5.2"
  },
  "varInspector": {
   "cols": {
    "lenName": 16,
    "lenType": 16,
    "lenVar": 40
   },
   "kernels_config": {
    "python": {
     "delete_cmd_postfix": "",
     "delete_cmd_prefix": "del ",
     "library": "var_list.py",
     "varRefreshCmd": "print(var_dic_list())"
    },
    "r": {
     "delete_cmd_postfix": ") ",
     "delete_cmd_prefix": "rm(",
     "library": "var_list.r",
     "varRefreshCmd": "cat(var_dic_list()) "
    }
   },
   "types_to_exclude": [
    "module",
    "function",
    "builtin_function_or_method",
    "instance",
    "_Feature"
   ],
   "window_display": false
  }
 },
 "nbformat": 4,
 "nbformat_minor": 1
}
